{
 "cells": [
  {
   "cell_type": "code",
   "execution_count": 1,
   "metadata": {},
   "outputs": [
    {
     "name": "stdout",
     "output_type": "stream",
     "text": [
      "My first car is Lexus\n",
      "My second car model is V56B\n"
     ]
    }
   ],
   "source": [
    "### Creating an empty class\n",
    "class Car:\n",
    "    pass\n",
    "## Object instatiation\n",
    "car1 = Car()\n",
    "car2 = Car()\n",
    "car1.Name = \"Lexus\"\n",
    "car1.model = \"L32A\"\n",
    "car2.Name = \"Vanguard\"\n",
    "car2.model =\"V56B\"\n",
    "print(\"My first car is\",car1.Name)\n",
    "print(\"My second car model is\",car2.model)"
   ]
  },
  {
   "cell_type": "code",
   "execution_count": 4,
   "metadata": {},
   "outputs": [
    {
     "name": "stdout",
     "output_type": "stream",
     "text": [
      "My first car is Lexus\n",
      "************************************************** \n",
      "\n",
      "My second car model is V56B\n",
      "************************************************** \n",
      "\n"
     ]
    }
   ],
   "source": [
    "### Making my first method in the class\n",
    "class Car:\n",
    "    def initialization(obj,n,m):\n",
    "        obj.name = n\n",
    "        obj.Model = m\n",
    "\n",
    "### Object instantiation\n",
    "car1 = Car()\n",
    "car2 = Car()\n",
    "\n",
    "### Calling the methd using class\n",
    "Car.initialization(car1,\"Lexus\",\"L632A\")\n",
    "Car.initialization(car2,\"Vanguard\",\"V56B\")\n",
    "print(\"My first car is\",car1.name)\n",
    "print(\"*\"*50,\"\\n\")\n",
    "print(\"My second car model is\",car2.Model)\n",
    "print(\"*\"*50,\"\\n\")"
   ]
  },
  {
   "cell_type": "code",
   "execution_count": 5,
   "metadata": {},
   "outputs": [
    {
     "name": "stdout",
     "output_type": "stream",
     "text": [
      "Jeep\n",
      "Harrier\n"
     ]
    }
   ],
   "source": [
    "### Using the self Method\n",
    "class Car:\n",
    "    def initialization(self,Name,Model):\n",
    "        self.Name = Name\n",
    "        self.Model = Model\n",
    "\n",
    "# object instatiation\n",
    "car3 = Car()\n",
    "car4 = Car()\n",
    "\n",
    "### Calling a method by object\n",
    "car3.initialization(\"Harrier\",\"H634\")\n",
    "car4.initialization(\"Jeep\",\"J453\")\n",
    "print(car4.Name)\n",
    "print(car3.Name)"
   ]
  },
  {
   "cell_type": "code",
   "execution_count": 15,
   "metadata": {},
   "outputs": [
    {
     "name": "stdout",
     "output_type": "stream",
     "text": [
      "Lexus L743B 2024.\n",
      "************************************************** \n",
      "\n",
      "My current car odometer reading is 0\n",
      "************************************************** \n",
      "\n",
      "My current car odometer reading is 4.7\n",
      "************************************************** \n",
      "\n",
      "My current car odometer reading is 104.7\n",
      "************************************************** \n",
      "\n"
     ]
    }
   ],
   "source": [
    "### Introducing the init fuction\n",
    "class Car:\n",
    "    def __init__(self,name,model,year):\n",
    "        self.name = name\n",
    "        self.model = model\n",
    "        self.year = year\n",
    "        self.Odometer_reading = 0\n",
    "    @property\n",
    "    def car_description(self):\n",
    "        long_name = f\"{self.name} {self.model} {self.year}.\"\n",
    "        print(long_name.title())\n",
    "        print(\"*\"*50,\"\\n\")\n",
    "    @property\n",
    "    def read_odemeter(self):\n",
    "        print(f\"My current car odometer reading is {self.Odometer_reading}\")\n",
    "        print(\"*\"*50,\"\\n\")\n",
    "\n",
    "    def update_Odometer(self,mileage):\n",
    "        if mileage >= self.Odometer_reading:\n",
    "            self.Odometer_reading = mileage\n",
    "    \n",
    "    def increament_odometer(self,miles):\n",
    "        self.Odometer_reading += miles\n",
    "\n",
    "### Object instatiation\n",
    "carA = Car(\"Lexus\",\"L743B\",2024)\n",
    "carA.car_description\n",
    "carA.read_odemeter\n",
    "carA.update_Odometer(4.7)\n",
    "carA.read_odemeter\n",
    "carA.increament_odometer(100)\n",
    "carA.read_odemeter\n"
   ]
  },
  {
   "cell_type": "code",
   "execution_count": 20,
   "metadata": {},
   "outputs": [
    {
     "name": "stdout",
     "output_type": "stream",
     "text": [
      "Tesla T231 2024.\n",
      "************************************************** \n",
      "\n",
      "This car battery is 75-KWm\n",
      "************************************************** \n",
      "\n"
     ]
    }
   ],
   "source": [
    "### Inheritance\n",
    "class Car:\n",
    "    def __init__(self,name,model,year):\n",
    "        self.name = name\n",
    "        self.model = model\n",
    "        self.year = year\n",
    "        self.Odometer_reading = 0\n",
    "    @property\n",
    "    def car_description(self):\n",
    "        long_name = f\"{self.name} {self.model} {self.year}.\"\n",
    "        print(long_name.title())\n",
    "        print(\"*\"*50,\"\\n\")\n",
    "    @property\n",
    "    def read_odemeter(self):\n",
    "        print(f\"My current car odometer reading is {self.Odometer_reading}\")\n",
    "        print(\"*\"*50,\"\\n\")\n",
    "\n",
    "    def update_Odometer(self,mileage):\n",
    "        if mileage >= self.Odometer_reading:\n",
    "            self.Odometer_reading = mileage\n",
    "    \n",
    "    def increament_odometer(self,miles):\n",
    "        self.Odometer_reading += miles\n",
    "\n",
    "class ElectricCar(Car):\n",
    "    def __init__(self, name, model, year):\n",
    "        super().__init__(name, model, year)\n",
    "        self.battery = 75\n",
    "    @property\n",
    "    def battery_description(self):\n",
    "        print(f\"This car battery is {self.battery}-KWm\")\n",
    "        print(\"*\"*50,\"\\n\")\n",
    "\n",
    "my_Tesla = ElectricCar(\"Tesla\",\"T231\",2024)\n",
    "my_Tesla.car_description\n",
    "my_Tesla.battery_description\n",
    "\n"
   ]
  },
  {
   "cell_type": "code",
   "execution_count": 39,
   "metadata": {},
   "outputs": [
    {
     "name": "stdout",
     "output_type": "stream",
     "text": [
      "The point is (6, 8)\n",
      "The point is (6, -8)\n",
      "The point is (9, -3)\n",
      "The point is (0, 6)\n",
      "The point is (-2, -1)\n",
      "The point is (-11, -5)\n",
      "--------------------------------------------------\n",
      "The point is (-2, -1)\n",
      "The point is (0, 6)\n",
      "The point is (9, -3)\n",
      "The point is (6, -8)\n",
      "The point is (-11, -5)\n"
     ]
    }
   ],
   "source": [
    "#### Exercise from lesson\n",
    "### TASK 1\n",
    "from math import sqrt\n",
    "class Point:\n",
    "    def __init__(self,x = 0,y = 0):\n",
    "        self.x = x\n",
    "        self.y = y\n",
    "\n",
    "    @property\n",
    "    def reset(self):\n",
    "        self.move(0,0)\n",
    "    @property   \n",
    "    def mag(self):\n",
    "        return sqrt(self.x**2 + self.y**2)\n",
    "\n",
    "    def move(self,new_x,new_y):\n",
    "        self.x = new_x\n",
    "        self.y = new_y\n",
    "\n",
    "    def xMove(self,newx):\n",
    "        self.x = newx\n",
    "    def yMove(self,newy):\n",
    "        self.y = newy\n",
    "    @property\n",
    "    def show_point(self):\n",
    "        return f\"The point is {(self.x,self.y)}\"\n",
    "        \n",
    "### Making a random list\n",
    "from random import randint\n",
    "def addPoint(p1,p2):\n",
    "    return Point(p1.x+p2.x,p1.y+p2.y)\n",
    "\n",
    "p1 = Point(2,3)\n",
    "p2 = Point(4,5)\n",
    "print(addPoint(p1,p2).show_point)\n",
    "\n",
    "#l1 = []\n",
    "#for i in range(5):\n",
    "#       p = Point(randint(-10,10),randint(-10,10))\n",
    "#    l1.append(p)\n",
    "\n",
    "### List comprehension\n",
    "l1 = [Point(randint(-10,10),randint(-10,10)) for i in range(5)]\n",
    "l2 = [Point(randint(-5,5),randint(-5,5)) for i in range(5)]\n",
    "l3 = list(map(addPoint,l1,l2))\n",
    "for p in l3:\n",
    "    print(p.show_point)\n",
    "print(\"-\"*50)\n",
    "l3.sort(key=lambda p: p.mag)\n",
    "for p in l3:\n",
    "    print(p.show_point)\n",
    "\n",
    "\n"
   ]
  },
  {
   "cell_type": "code",
   "execution_count": 1,
   "metadata": {},
   "outputs": [
    {
     "name": "stdout",
     "output_type": "stream",
     "text": [
      "Jane\n",
      "jane.doe@example.com\n",
      "None\n"
     ]
    }
   ],
   "source": [
    "import datetime # we will use this for date objects\n",
    "class Person:\n",
    "    def __init__(self, name, surname, birthdate, address, telephone, email):\n",
    "        self.name = name\n",
    "        self.surname = surname\n",
    "        self.birthdate = birthdate\n",
    "        self.address = address\n",
    "        self.telephone = telephone\n",
    "        self.email = email\n",
    "    def age(self):\n",
    "        today = datetime.date.today()\n",
    "        age = today.year - self.birthdate.year\n",
    "        if today < datetime.date(today.year, self.birthdate.month, self.birthdate.day):\n",
    "            age -= 1\n",
    "            return age\n",
    "person = Person(\n",
    "\"Jane\",\n",
    "\"Doe\",\n",
    "datetime.date(1992, 3, 12), # year, month, day\n",
    "\"No. 12 Short Street, Greenville\",\n",
    "\"555 456 0987\",\n",
    "\"jane.doe@example.com\"\n",
    ")\n",
    "print(person.name)\n",
    "print(person.email)\n",
    "print(person.age())"
   ]
  }
 ],
 "metadata": {
  "kernelspec": {
   "display_name": "Python 3",
   "language": "python",
   "name": "python3"
  },
  "language_info": {
   "codemirror_mode": {
    "name": "ipython",
    "version": 3
   },
   "file_extension": ".py",
   "mimetype": "text/x-python",
   "name": "python",
   "nbconvert_exporter": "python",
   "pygments_lexer": "ipython3",
   "version": "3.11.5"
  }
 },
 "nbformat": 4,
 "nbformat_minor": 2
}
